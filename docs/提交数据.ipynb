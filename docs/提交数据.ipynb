{
 "cells": [
  {
   "cell_type": "markdown",
   "metadata": {},
   "source": [
    "整理下载耗时长的数据，提交到github存储，提高初始化数据的速度。"
   ]
  },
  {
   "cell_type": "code",
   "execution_count": 1,
   "metadata": {
    "ExecuteTime": {
     "end_time": "2018-05-12T16:50:31.750271Z",
     "start_time": "2018-05-12T16:50:31.152075Z"
    }
   },
   "outputs": [],
   "source": [
    "import pandas as pd\n",
    "from cswd.sql import get_engine\n",
    "from cswd.common.utils import data_root\n",
    "import os"
   ]
  },
  {
   "cell_type": "code",
   "execution_count": 2,
   "metadata": {
    "ExecuteTime": {
     "end_time": "2018-05-12T16:50:31.757923Z",
     "start_time": "2018-05-12T16:50:31.753068Z"
    }
   },
   "outputs": [],
   "source": [
    "from cswd.sql.models import (Issue, ShortName, Treasury,SpecialTreatment,\n",
    "                             Shareholder,Adjustment,\n",
    "                             BalanceSheet, ProfitStatement, CashflowStatement,\n",
    "                             ZYZB, YLNL, CHNL, CZNL, YYNL)"
   ]
  },
  {
   "cell_type": "code",
   "execution_count": 3,
   "metadata": {
    "ExecuteTime": {
     "end_time": "2018-05-12T16:50:31.779106Z",
     "start_time": "2018-05-12T16:50:31.760965Z"
    }
   },
   "outputs": [],
   "source": [
    "engine = get_engine()"
   ]
  },
  {
   "cell_type": "code",
   "execution_count": 4,
   "metadata": {
    "ExecuteTime": {
     "end_time": "2018-05-12T16:50:31.786164Z",
     "start_time": "2018-05-12T16:50:31.781757Z"
    }
   },
   "outputs": [],
   "source": [
    "classes = [\n",
    "    BalanceSheet, ProfitStatement, CashflowStatement,ZYZB, YLNL, CHNL, CZNL, YYNL\n",
    "]"
   ]
  },
  {
   "cell_type": "markdown",
   "metadata": {},
   "source": [
    "### 写入csv"
   ]
  },
  {
   "cell_type": "code",
   "execution_count": 5,
   "metadata": {
    "ExecuteTime": {
     "end_time": "2018-05-12T16:50:31.804284Z",
     "start_time": "2018-05-12T16:50:31.789479Z"
    }
   },
   "outputs": [],
   "source": [
    "def to_csv(table_name):\n",
    "    chunksize = 20000\n",
    "    i = 0\n",
    "    root_path = data_root(table_name)\n",
    "    for df in pd.read_sql_table(table_name, engine.connect(), chunksize=chunksize):\n",
    "        file_name = os.path.join(root_path,'file{}.csv'.format(str(i)))\n",
    "        df.to_csv(file_name, index=False)\n",
    "        i += 1    "
   ]
  },
  {
   "cell_type": "code",
   "execution_count": 6,
   "metadata": {
    "ExecuteTime": {
     "end_time": "2018-05-12T16:51:28.631650Z",
     "start_time": "2018-05-12T16:50:31.809286Z"
    }
   },
   "outputs": [],
   "source": [
    "for c in classes:\n",
    "    to_csv(c.__tablename__)"
   ]
  }
 ],
 "metadata": {
  "kernelspec": {
   "display_name": "zipline",
   "language": "python",
   "name": "zipline"
  },
  "language_info": {
   "codemirror_mode": {
    "name": "ipython",
    "version": 3
   },
   "file_extension": ".py",
   "mimetype": "text/x-python",
   "name": "python",
   "nbconvert_exporter": "python",
   "pygments_lexer": "ipython3",
   "version": "3.6.4"
  },
  "toc": {
   "base_numbering": 1,
   "nav_menu": {},
   "number_sections": true,
   "sideBar": true,
   "skip_h1_title": false,
   "title_cell": "Table of Contents",
   "title_sidebar": "Contents",
   "toc_cell": false,
   "toc_position": {
    "height": "calc(100% - 180px)",
    "left": "10px",
    "top": "150px",
    "width": "260px"
   },
   "toc_section_display": true,
   "toc_window_display": true
  }
 },
 "nbformat": 4,
 "nbformat_minor": 2
}
